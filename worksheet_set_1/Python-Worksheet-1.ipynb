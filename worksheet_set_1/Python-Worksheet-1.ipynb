{
 "cells": [
  {
   "cell_type": "code",
   "execution_count": 14,
   "id": "b28b5d66",
   "metadata": {},
   "outputs": [
    {
     "name": "stdout",
     "output_type": "stream",
     "text": [
      "Enter number: 12\n",
      "Factorial of the number is: 479001600\n"
     ]
    }
   ],
   "source": [
    "#Find the factorial of a number\n",
    "\n",
    "n=int(input(\"Enter a number: \"))\n",
    "fact=1\n",
    "while(n>0):\n",
    "    fact=fact*n\n",
    "    n=n-1\n",
    "print(f\"Factorial of the number is: {fact}\")"
   ]
  },
  {
   "cell_type": "code",
   "execution_count": 23,
   "id": "86f79a4b",
   "metadata": {},
   "outputs": [
    {
     "name": "stdout",
     "output_type": "stream",
     "text": [
      "Enter a number: 12\n",
      "Composite\n"
     ]
    }
   ],
   "source": [
    "#Find whether a number if prime or composite\n",
    "\n",
    "number = int(input(\"Enter a number: \"))\n",
    "is_prime = True\n",
    "for n in range(2,number):\n",
    "    if number % n == 0:\n",
    "        is_prime = False\n",
    "if is_prime:\n",
    "    print('Prime')\n",
    "else:\n",
    "    print('Composite')"
   ]
  },
  {
   "cell_type": "code",
   "execution_count": 27,
   "id": "779a5ea5",
   "metadata": {},
   "outputs": [
    {
     "name": "stdout",
     "output_type": "stream",
     "text": [
      "Enter string:robo\n",
      "Not a palindrome\n"
     ]
    }
   ],
   "source": [
    "#Check whether a given string is a palindrome or not\n",
    "\n",
    "word = input(\"Enter string:\")\n",
    "if(word==word[::-1]):\n",
    "      print(\"Palindrome\")\n",
    "else:\n",
    "      print(\"Not a palindrome\")"
   ]
  },
  {
   "cell_type": "code",
   "execution_count": 29,
   "id": "0664fecb",
   "metadata": {},
   "outputs": [
    {
     "name": "stdout",
     "output_type": "stream",
     "text": [
      "Hypotenuse = 5.0\n"
     ]
    }
   ],
   "source": [
    "#Get the third side of a right-angled triangle from two given sides.\n",
    "\n",
    "def find_side(a,b,c):\n",
    "        if a == \"x\":\n",
    "            return (f\"Opposite = {(c**2 - b**2)**0.5}\")\n",
    "        elif b == \"x\":\n",
    "            return (f\"Adjacent = {(c**2 - a**2)**0.5}\")\n",
    "        elif c == \"x\":\n",
    "            return (f\"Hypotenuse = {(a**2 + b**2)**0.5}\")\n",
    "\n",
    "print(find_side(3,4,'x'))"
   ]
  },
  {
   "cell_type": "code",
   "execution_count": 31,
   "id": "a1c151f5",
   "metadata": {},
   "outputs": [
    {
     "name": "stdout",
     "output_type": "stream",
     "text": [
      "Enter a string: aradhana\n",
      "{'a': 4, 'r': 1, 'd': 1, 'h': 1, 'n': 1}\n"
     ]
    }
   ],
   "source": [
    "#Print frequency of each of the characters present in a given string.\n",
    "\n",
    "string = input(\"Enter a string: \")\n",
    "all_freq = {}\n",
    "  \n",
    "for i in string:\n",
    "    if i in all_freq:\n",
    "        all_freq[i] += 1\n",
    "    else:\n",
    "        all_freq[i] = 1\n",
    "\n",
    "print(str(all_freq))"
   ]
  },
  {
   "cell_type": "code",
   "execution_count": null,
   "id": "94db689a",
   "metadata": {},
   "outputs": [],
   "source": []
  }
 ],
 "metadata": {
  "kernelspec": {
   "display_name": "Python 3 (ipykernel)",
   "language": "python",
   "name": "python3"
  },
  "language_info": {
   "codemirror_mode": {
    "name": "ipython",
    "version": 3
   },
   "file_extension": ".py",
   "mimetype": "text/x-python",
   "name": "python",
   "nbconvert_exporter": "python",
   "pygments_lexer": "ipython3",
   "version": "3.9.7"
  }
 },
 "nbformat": 4,
 "nbformat_minor": 5
}
