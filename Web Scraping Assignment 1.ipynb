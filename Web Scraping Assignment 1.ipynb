{
 "cells": [
  {
   "cell_type": "markdown",
   "id": "8dca89e1",
   "metadata": {},
   "source": [
    "## 1) Write a python program to display all the header tags from wikipedia.org ."
   ]
  },
  {
   "cell_type": "code",
   "execution_count": 3,
   "id": "e7fb57ba",
   "metadata": {},
   "outputs": [
    {
     "name": "stdout",
     "output_type": "stream",
     "text": [
      "                          Headers\n",
      "0                       Main Page\n",
      "1            Welcome to Wikipedia\n",
      "2   From today's featured article\n",
      "3                Did you know ...\n",
      "4                     In the news\n",
      "5                     On this day\n",
      "6        Today's featured picture\n",
      "7        Other areas of Wikipedia\n",
      "8     Wikipedia's sister projects\n",
      "9             Wikipedia languages\n",
      "10                Navigation menu\n",
      "11                         Search\n"
     ]
    }
   ],
   "source": [
    "from bs4 import BeautifulSoup\n",
    "import requests\n",
    "import pandas as pd\n",
    "\n",
    "def headers(url):\n",
    "    html = requests.get(url)\n",
    "    bs = BeautifulSoup(html.content)\n",
    "    titles = (i.text.strip() for i in bs.find_all(['h1', 'h2','h3','h4','h5','h6']))\n",
    "    df = pd.DataFrame({'Headers': titles})\n",
    "    print(df)\n",
    "    \n",
    "headers('https://en.wikipedia.org/wiki/Main_Page')"
   ]
  },
  {
   "cell_type": "markdown",
   "id": "dd7907b4",
   "metadata": {},
   "source": [
    "## 2) Write a python program to display IMDB’s Top rated 100 movies’ data (i.e. name, rating, year of release) and make data frame."
   ]
  },
  {
   "cell_type": "code",
   "execution_count": 4,
   "id": "176afbc5",
   "metadata": {},
   "outputs": [
    {
     "name": "stdout",
     "output_type": "stream",
     "text": [
      "                                                  Title  Year Rating\n",
      "Rank                                                                \n",
      "1                              The Shawshank Redemption  1994    9.3\n",
      "2                                         The Godfather  1972    9.2\n",
      "3                                       The Dark Knight  2008    9.0\n",
      "4         The Lord of the Rings: The Return of the King  2003    9.0\n",
      "5                                      Schindler's List  1993    9.0\n",
      "6                                The Godfather: Part II  1974    9.0\n",
      "7                                          12 Angry Men  1957    9.0\n",
      "8                                          Pulp Fiction  1994    8.9\n",
      "9                                             Inception  2010    8.8\n",
      "10                The Lord of the Rings: The Two Towers  2002    8.8\n",
      "11                                           Fight Club  1999    8.8\n",
      "12    The Lord of the Rings: The Fellowship of the Ring  2001    8.8\n",
      "13                                         Forrest Gump  1994    8.8\n",
      "14                      Il buono, il brutto, il cattivo  1966    8.8\n",
      "15                                           The Matrix  1999    8.7\n",
      "16                                           Goodfellas  1990    8.7\n",
      "17                              The Empire Strikes Back  1980    8.7\n",
      "18                      One Flew Over the Cuckoo's Nest  1975    8.7\n",
      "19                                         Interstellar  2014    8.6\n",
      "20                                       Cidade de Deus  2002    8.6\n",
      "21                        Sen to Chihiro no kamikakushi  2001    8.6\n",
      "22                                  Saving Private Ryan  1998    8.6\n",
      "23                                       The Green Mile  1999    8.6\n",
      "24                                      La vita è bella  1997    8.6\n",
      "25                                                Se7en  1995    8.6\n",
      "26                           Terminator 2: Judgment Day  1991    8.6\n",
      "27                             The Silence of the Lambs  1991    8.6\n",
      "28                                            Star Wars  1977    8.6\n",
      "29                                              Seppuku  1962    8.6\n",
      "30                                 Shichinin no samurai  1954    8.6\n",
      "31                                It's a Wonderful Life  1946    8.6\n",
      "32                                         Gisaengchung  2019    8.5\n",
      "33                               Avengers: Infinity War  2018    8.5\n",
      "34                                             Whiplash  2014    8.5\n",
      "35                                     The Intouchables  2011    8.5\n",
      "36                                         The Prestige  2006    8.5\n",
      "37                                         The Departed  2006    8.5\n",
      "38                                          The Pianist  2002    8.5\n",
      "39                                              Memento  2000    8.5\n",
      "40                                            Gladiator  2000    8.5\n",
      "41                                   American History X  1998    8.5\n",
      "42                                   The Usual Suspects  1995    8.5\n",
      "43                                                 Léon  1994    8.5\n",
      "44                                        The Lion King  1994    8.5\n",
      "45                                Nuovo Cinema Paradiso  1988    8.5\n",
      "46                                       Hotaru no haka  1988    8.5\n",
      "47                                   Back to the Future  1985    8.5\n",
      "48                                       Apocalypse Now  1979    8.5\n",
      "49                                                Alien  1979    8.5\n",
      "50                         Once Upon a Time in the West  1968    8.5\n"
     ]
    }
   ],
   "source": [
    "import pandas as pd\n",
    "\n",
    "def imdb(url):\n",
    "    html = requests.get(url)\n",
    "    bs = BeautifulSoup(html.content, 'html.parser')\n",
    "    movies = [i.h3.a.text.strip() for i in bs.find_all('div', class_=\"lister-item mode-advanced\")]\n",
    "    year = [i.text[1:5].strip() for i in bs.find_all('span', class_=\"lister-item-year text-muted unbold\")]\n",
    "    ratings = [i.text.replace('\\n','') for i in bs.find_all('div', class_=\"inline-block ratings-imdb-rating\")]\n",
    "    df = pd.DataFrame({'Title': movies, 'Year': year, 'Rating':ratings})\n",
    "    df.index += 1\n",
    "    df.index.name = 'Rank'\n",
    "    print(df)\n",
    "\n",
    "imdb('https://www.imdb.com/search/title/?groups=top_100&sort=user_rating,desc')"
   ]
  },
  {
   "cell_type": "markdown",
   "id": "53d44d3c",
   "metadata": {},
   "source": [
    "## 3) Write a python program to display IMDB’s Top rated 100 Indian movies’ data (i.e. name, rating, year of release) and make data frame."
   ]
  },
  {
   "cell_type": "code",
   "execution_count": 14,
   "id": "411bb870",
   "metadata": {},
   "outputs": [
    {
     "name": "stdout",
     "output_type": "stream",
     "text": [
      "                        Rank, Title and Year Rating\n",
      "1             1.      K.G.F: Chapter 2(2022)    8.5\n",
      "2                   2.      Anbe Sivam(2003)    8.4\n",
      "3                     3.      Jai Bhim(2021)    8.4\n",
      "4                      4.      Golmaal(1979)    8.4\n",
      "5                      5.      Nayakan(1987)    8.4\n",
      "..                                       ...    ...\n",
      "96                     96.      Baasha(1995)    8.0\n",
      "97                     97.      Masaan(2015)    8.0\n",
      "98             98.      Dil Chahta Hai(2001)    8.0\n",
      "99                    99.      Kahaani(2012)    8.0\n",
      "100  100.      Maheshinte Prathikaaram(2016)    8.0\n",
      "\n",
      "[100 rows x 2 columns]\n"
     ]
    }
   ],
   "source": [
    "def imdb_india(url):\n",
    "    html = requests.get(url)\n",
    "    bs = BeautifulSoup(html.content, 'html.parser')\n",
    "    movies = [i.text.replace('\\n','').strip() for i in bs.find_all('td', class_=\"titleColumn\")]\n",
    "    ratings = [i.text.replace('\\n','') for i in bs.find_all('td', class_=\"ratingColumn imdbRating\")]\n",
    "    df = pd.DataFrame({'Rank, Title and Year': movies[0:100], 'Rating':ratings[0:100]})\n",
    "    df.index += 1\n",
    "    print(df)\n",
    "\n",
    "imdb_india('https://www.imdb.com/india/top-rated-indian-movies/')"
   ]
  },
  {
   "cell_type": "markdown",
   "id": "bf38fbc1",
   "metadata": {},
   "source": [
    "# 4) Write a python program to scrape product name, price and discounts from https://meesho.com/bagsladies/pl/p7vbp ."
   ]
  },
  {
   "cell_type": "code",
   "execution_count": 15,
   "id": "1f4d8586",
   "metadata": {},
   "outputs": [
    {
     "name": "stdout",
     "output_type": "stream",
     "text": [
      "                            Product Name  Price Discount\n",
      "1           Voguish Fancy Women Handbags   1549       3%\n",
      "2      Ravishing Alluring Women Handbags    384      12%\n",
      "3        Ravishing Classy Women Handbags    950       5%\n",
      "4       Classic Versatile Women Handbags    950       5%\n",
      "5          Graceful Fancy Women Handbags    528       9%\n",
      "6      Classic Attractive Women Handbags    620       7%\n",
      "7         Classic Stylish Women Handbags   3202       2%\n",
      "8          Elegant Classy Women Handbags    950       5%\n",
      "9      Graceful Versatile Women Handbags    950       5%\n",
      "10  Ravishing Fashionable Women Handbags    316      14%\n",
      "11       Elegant Alluring Women Handbags   2337       2%\n",
      "12    Graceful Attractive Women Handbags    550       8%\n",
      "13          Classic Fancy Women Handbags    646       7%\n",
      "14      Classic Versatile Women Handbags    550       8%\n",
      "15        Trendy Alluring Women Handbags   1320       4%\n",
      "16    Elegant Fashionable Women Handbags    725       6%\n",
      "17        Trendy Alluring Women Handbags    950       5%\n",
      "18       Classic Alluring Women Handbags    518       9%\n",
      "19         Trendy Stylish Women Handbags    823       6%\n",
      "20    Classic Fashionable Women Handbags    620       7%\n"
     ]
    }
   ],
   "source": [
    "def products(url):\n",
    "    html = requests.get(url)\n",
    "    bs = BeautifulSoup(html.content, 'html.parser')\n",
    "    product_names = [i.text for i in bs.find_all('p', class_=\"Text__StyledText-sc-oo0kvp-0 bWSOET NewProductCard__ProductTitle_Desktop-sc-j0e7tu-4 cQhePS NewProductCard__ProductTitle_Desktop-sc-j0e7tu-4 cQhePS\")]\n",
    "    prices = [int(i.text.replace('₹','')) for i in bs.find_all('h5', class_=\"Text__StyledText-sc-oo0kvp-0 hiHdyy\")]\n",
    "    discounts = [i.text.replace(' off','') for i in bs.find_all('span', class_=\"Text__StyledText-sc-oo0kvp-0 lnonyH\")]\n",
    "    df = pd.DataFrame({'Product Name':product_names, 'Price':prices, 'Discount':discounts})\n",
    "    df.index += 1\n",
    "    print(df)\n",
    "    \n",
    "products('https://meesho.com/bags-ladies/pl/p7vbp')"
   ]
  },
  {
   "cell_type": "markdown",
   "id": "de326d3d",
   "metadata": {},
   "source": [
    "## 5) Write a python program to scrape cricket rankings from icc-cricket.com.\n",
    "\n",
    "You have to scrape:\n",
    "1) Top 10 ODI teams in men’s cricket along with the records for matches, points and rating.\n",
    "\n",
    "2) Top 10 ODI Batsmen along with the records of their team and rating.\n",
    "\n",
    "3) Top 10 ODI bowlers along with the records of their team and rating.\n",
    "\n"
   ]
  },
  {
   "cell_type": "code",
   "execution_count": 7,
   "id": "461fe4d8",
   "metadata": {},
   "outputs": [
    {
     "name": "stdout",
     "output_type": "stream",
     "text": [
      "            Team Matches Points Rating\n",
      "1    New Zealand      20  2,448    122\n",
      "2        England      32  3,793    119\n",
      "3      Australia      31  3,475    112\n",
      "4          India      38  4,162    110\n",
      "5   South Africa      31  3,167    102\n",
      "6       Pakistan      30  2,921     97\n",
      "7     Bangladesh      36  3,350     93\n",
      "8      Sri Lanka      35  2,835     81\n",
      "9    West Indies      36  2,788     77\n",
      "10   Afghanistan      23  1,562     68\n"
     ]
    }
   ],
   "source": [
    "def odi_teams(url):\n",
    "    html = requests.get(url)\n",
    "    bs = BeautifulSoup(html.content, 'html.parser')\n",
    "    teams = [i.text for i in bs.find_all('span', class_=\"u-hide-phablet\")]\n",
    "    matches_and_points = []\n",
    "    for i in bs.find_all('td', class_='table-body__cell u-center-text'):\n",
    "        matches_and_points.append(i.text)\n",
    "    matches = [matches_and_points[i] for i in range(len(matches_and_points)) if i % 2 == 0]\n",
    "    matches.insert(0, bs.find('td', class_=\"rankings-block__banner--matches\").text)\n",
    "    points = [matches_and_points[i] for i in range(len(matches_and_points)) if i % 2 != 0]\n",
    "    points.insert(0, bs.find('td', class_=\"rankings-block__banner--points\").text.replace('\\n\\n',''))\n",
    "    rating = [i.text for i in bs.find_all('td', class_=\"table-body__cell u-text-right rating\")]\n",
    "    rating.insert(0, bs.find('td', class_='rankings-block__banner--rating u-text-right').text.strip())\n",
    "    df = pd.DataFrame({'Team':teams[:10],'Matches':matches[:10],'Points':points[:10],'Rating':rating[:10]})\n",
    "    df.index += 1\n",
    "    print(df)\n",
    "\n",
    "odi_teams('https://www.icc-cricket.com/rankings/mens/team-rankings/odi')"
   ]
  },
  {
   "cell_type": "code",
   "execution_count": 8,
   "id": "6031ca7a",
   "metadata": {},
   "outputs": [
    {
     "name": "stdout",
     "output_type": "stream",
     "text": [
      "                   Player Team Rating\n",
      "1              Babar Azam  PAK    891\n",
      "2             Virat Kohli  IND    811\n",
      "3             Imam-ul-Haq  PAK    795\n",
      "4            Rohit Sharma  IND    791\n",
      "5         Quinton de Kock   SA    789\n",
      "6          Jonny Bairstow  ENG    775\n",
      "7             Ross Taylor   NZ    775\n",
      "8   Rassie van der Dussen   SA    769\n",
      "9            David Warner  AUS    750\n",
      "10            Aaron Finch  AUS    745\n"
     ]
    }
   ],
   "source": [
    "def odi_batting(url):\n",
    "    html = requests.get(url)\n",
    "    bs = BeautifulSoup(html.content, 'html.parser')\n",
    "    players = [i.text.strip() for i in bs.find_all('td', class_=\"table-body__cell name\")]\n",
    "    players.insert(0, bs.find('div', class_=\"rankings-block__banner--name\").text)\n",
    "    teams = [i.text.strip() for i in bs.find_all('span', class_=\"table-body__logo-text\")]\n",
    "    teams.insert(0, bs.find('div', class_=\"rankings-block__banner--nationality\").text.strip().replace('\\n891','').replace('\\n785',''))\n",
    "    rating = [i.text.strip() for i in bs.find_all('td', class_=\"table-body__cell u-text-right rating\")]\n",
    "    rating.insert(0, bs.find('div', class_=\"rankings-block__banner--nationality\").text.strip().replace('PAK\\n','').replace('AUS\\n',''))\n",
    "    df = pd.DataFrame({'Player':players[:10],'Team':teams[:10],'Rating':rating[:10]})\n",
    "    df.index += 1\n",
    "    print(df)\n",
    "    \n",
    "odi_batting('https://www.icc-cricket.com/rankings/mens/player-rankings/odi')"
   ]
  },
  {
   "cell_type": "code",
   "execution_count": 9,
   "id": "8ba8f9ef",
   "metadata": {},
   "outputs": [
    {
     "name": "stdout",
     "output_type": "stream",
     "text": [
      "              Player Team Rating\n",
      "1        Trent Boult   NZ    726\n",
      "2       Chris Woakes  ENG    700\n",
      "3     Josh Hazlewood  AUS    698\n",
      "4         Matt Henry   NZ    683\n",
      "5   Mujeeb Ur Rahman  AFG    681\n",
      "6     Jasprit Bumrah  IND    679\n",
      "7     Shaheen Afridi  PAK    671\n",
      "8       Mehedi Hasan  BAN    661\n",
      "9    Shakib Al Hasan  BAN    657\n",
      "10       Rashid Khan  AFG    650\n"
     ]
    }
   ],
   "source": [
    "def odi_bowling(url):\n",
    "    html = requests.get(url)\n",
    "    bs = BeautifulSoup(html.content, 'html.parser')\n",
    "    all_players = [i.text.strip() for i in bs.find_all('td', class_=\"table-body__cell name\")]\n",
    "    bowlers = [i for i in all_players[9:18]]\n",
    "    header_names = [i.text.strip() for i in bs.find_all('div', class_=\"rankings-block__banner--name\")]\n",
    "    bowlers.insert(0, header_names[1])\n",
    "    all_teams = [i.text.strip() for i in bs.find_all('span', class_=\"table-body__logo-text\")]\n",
    "    teams = [i for i in all_teams[9:18]]\n",
    "    header_info = [i.text.strip() for i in bs.find_all('div', class_=\"rankings-block__banner--nationality\")]\n",
    "    teams.insert(0, header_info[1].replace('\\n726','').replace('\\n771',''))\n",
    "    all_rating = [i.text.strip() for i in bs.find_all('td', class_=\"table-body__cell u-text-right rating\")]\n",
    "    rating = [i for i in all_rating[9:18]]\n",
    "    header_rating_info = [i.text.strip() for i in bs.find_all('div', class_=\"rankings-block__banner--rating\")]\n",
    "    rating.insert(0, header_rating_info[1])\n",
    "    df = pd.DataFrame({'Player':bowlers,'Team':teams,'Rating':rating})\n",
    "    df.index += 1\n",
    "    print(df)\n",
    "    \n",
    "odi_bowling('https://www.icc-cricket.com/rankings/mens/player-rankings/odi')"
   ]
  },
  {
   "cell_type": "markdown",
   "id": "cbf2bf5c",
   "metadata": {},
   "source": [
    "## 6) Write a python program to scrape cricket rankings from icc-cricket.com. You have to scrape:\n",
    "1) Top 10 ODI teams in women’s cricket along with the records for matches, points and rating.\n",
    "\n",
    "2) Top 10 women’s ODI Batting players along with the records of their team and rating.\n",
    "\n",
    "3) Top 10 women’s ODI all-rounder along with the records of their team and rating."
   ]
  },
  {
   "cell_type": "code",
   "execution_count": 10,
   "id": "8a472e6c",
   "metadata": {},
   "outputs": [
    {
     "name": "stdout",
     "output_type": "stream",
     "text": [
      "            Team Matches Points Rating\n",
      "1      Australia      29  4,840    167\n",
      "2   South Africa      28  3,504    125\n",
      "3        England      30  3,533    118\n",
      "4          India      29  2,878     99\n",
      "5    New Zealand      31  3,030     98\n",
      "6    West Indies      28  2,481     89\n",
      "7     Bangladesh      12    936     78\n",
      "8       Pakistan      26  1,752     67\n",
      "9        Ireland       5    240     48\n",
      "10     Sri Lanka       5    233     47\n"
     ]
    }
   ],
   "source": [
    "odi_teams('https://www.icc-cricket.com/rankings/womens/team-rankings/odi')"
   ]
  },
  {
   "cell_type": "code",
   "execution_count": 11,
   "id": "6055baed",
   "metadata": {},
   "outputs": [
    {
     "name": "stdout",
     "output_type": "stream",
     "text": [
      "               Player Team Rating\n",
      "1        Alyssa Healy  AUS    785\n",
      "2      Natalie Sciver  ENG    750\n",
      "3         Beth Mooney  AUS    748\n",
      "4     Laura Wolvaardt   SA    722\n",
      "5         Meg Lanning  AUS    710\n",
      "6      Rachael Haynes  AUS    701\n",
      "7         Mithali Raj  IND    686\n",
      "8   Amy Satterthwaite   NZ    681\n",
      "9     Smriti Mandhana  IND    669\n",
      "10     Tammy Beaumont  ENG    659\n"
     ]
    }
   ],
   "source": [
    "odi_batting('https://www.icc-cricket.com/rankings/womens/player-rankings/odi')"
   ]
  },
  {
   "cell_type": "code",
   "execution_count": 12,
   "id": "a1cfd336",
   "metadata": {},
   "outputs": [
    {
     "name": "stdout",
     "output_type": "stream",
     "text": [
      "               Player Team Rating\n",
      "1   Sophie Ecclestone  ENG    771\n",
      "2      Shabnim Ismail   SA    732\n",
      "3       Jess Jonassen  AUS    725\n",
      "4        Megan Schutt  AUS    722\n",
      "5      Jhulan Goswami  IND    663\n",
      "6      Marizanne Kapp   SA    662\n",
      "7      Ayabonga Khaka   SA    635\n",
      "8      Anya Shrubsole  ENG    629\n",
      "9          Kate Cross  ENG    617\n",
      "10    Hayley Matthews   WI    612\n"
     ]
    }
   ],
   "source": [
    "odi_bowling('https://www.icc-cricket.com/rankings/womens/player-rankings/odi')"
   ]
  },
  {
   "cell_type": "markdown",
   "id": "35aa8dbf",
   "metadata": {},
   "source": [
    "## 7) Write a python program to scrape details of all the posts from coreyms.com. Scrape the heading, date, content and the code for the video from the link for the youtube video from the post."
   ]
  },
  {
   "cell_type": "code",
   "execution_count": 13,
   "id": "244d0484",
   "metadata": {},
   "outputs": [
    {
     "name": "stdout",
     "output_type": "stream",
     "text": [
      "                                             Heading                Date  \\\n",
      "1  Python Tutorial: Zip Files – Creating and Extr...   November 19, 2019   \n",
      "2  Python Data Science Tutorial: Analyzing the 20...    October 17, 2019   \n",
      "3  Python Multiprocessing Tutorial: Run Code in P...  September 21, 2019   \n",
      "4  Python Threading Tutorial: Run Code Concurrent...  September 12, 2019   \n",
      "5  Python Quick Tip: The Difference Between “==” ...      August 6, 2019   \n",
      "6  Python Tutorial: Calling External Commands Usi...       July 24, 2019   \n",
      "7  Visual Studio Code (Windows) – Setting up a Py...         May 1, 2019   \n",
      "8  Visual Studio Code (Mac) – Setting up a Python...         May 1, 2019   \n",
      "9  Clarifying the Issues with Mutable Default Arg...      April 24, 2019   \n",
      "\n",
      "                                             Content  \\\n",
      "1  In this video, we will be learning how to crea...   \n",
      "2  In this Python Programming video, we will be l...   \n",
      "3  In this Python Programming video, we will be l...   \n",
      "4  In this Python Programming video, we will be l...   \n",
      "5  In this Python Programming Tutorial, we will b...   \n",
      "6  In this Python Programming Tutorial, we will b...   \n",
      "7  In this Python Programming Tutorial, we will b...   \n",
      "8  In this Python Programming Tutorial, we will b...   \n",
      "9  In this Python Programming Tutorial, we will b...   \n",
      "\n",
      "                                                Link  \n",
      "1  https://www.youtube.com/embed/z0gguhEmWiY?vers...  \n",
      "2  https://www.youtube.com/embed/_P7X8tMplsw?vers...  \n",
      "3  https://www.youtube.com/embed/fKl2JW_qrso?vers...  \n",
      "4  https://www.youtube.com/embed/IEEhzQoKtQU?vers...  \n",
      "5  https://www.youtube.com/embed/mO_dS3rXDIs?vers...  \n",
      "6  https://www.youtube.com/embed/2Fp1N6dof0Y?vers...  \n",
      "7  https://www.youtube.com/embed/-nh9rCzPJ20?vers...  \n",
      "8  https://www.youtube.com/embed/06I63_p-2A4?vers...  \n",
      "9  https://www.youtube.com/embed/_JGmemuINww?vers...  \n"
     ]
    }
   ],
   "source": [
    "def coreyms(url):\n",
    "    html = requests.get(url)\n",
    "    bs = BeautifulSoup(html.content, 'html.parser')\n",
    "    headings = [i.text for i in bs.find_all('h2', class_='entry-title')]\n",
    "    headings.pop(4)\n",
    "    date = [i.text for i in bs.find_all('time', class_='entry-time')]\n",
    "    date.pop(4)\n",
    "    content = [i.text.strip() for i in bs.find_all('div', class_='entry-content')]\n",
    "    content.pop(4)\n",
    "    iframes = bs.find_all('iframe')\n",
    "    video_links = []\n",
    "    for iframe in iframes:\n",
    "        src=iframe['src']\n",
    "        video_links.append(src)\n",
    "    df = pd.DataFrame({'Heading':headings, 'Date':date, 'Content':content, 'Link':video_links})\n",
    "    df.index += 1\n",
    "    print(df)\n",
    "coreyms('https://coreyms.com/')"
   ]
  },
  {
   "cell_type": "markdown",
   "id": "413d6941",
   "metadata": {},
   "source": [
    "## 8) Write a python program to scrape house details from mentioned URL. It should include house title, location, area, EMI and price from https://www.nobroker.in/ .Enter three localities which are Indira Nagar, Jayanagar, Rajaji Nagar."
   ]
  },
  {
   "cell_type": "code",
   "execution_count": 14,
   "id": "d8ddb517",
   "metadata": {},
   "outputs": [
    {
     "name": "stdout",
     "output_type": "stream",
     "text": [
      "                                          House title  \\\n",
      "1   3 BHK Apartment  For Sale  In Admiralty Manor,...   \n",
      "2   4 BHK In Independent House  For Sale  In Jayan...   \n",
      "3   2 BHK Apartment  For Sale  In Jains Prakriti I...   \n",
      "4   4+ BHK In Independent House  For Sale  In Raja...   \n",
      "5   3 BHK Flat  For Sale  In Benaka Apartments In ...   \n",
      "6   4+ BHK In Independent House  For Sale  In Raja...   \n",
      "7   2 BHK Flat  For Sale  In Pallava Terrace In Ja...   \n",
      "8   3 BHK Apartment  For Sale  In Laa Royal Manor ...   \n",
      "9   2 BHK Apartment  For Sale  In Tarang Parkway A...   \n",
      "10  4 BHK In Independent House  For Sale  In Indir...   \n",
      "11  3 BHK Apartment  For Sale  In Brigade Gateway ...   \n",
      "12  2 BHK Flat  For Sale  In Jains Prakruti, Jayan...   \n",
      "13  2 BHK Apartment  For Sale  In Blueberry Apartm...   \n",
      "14  4+ BHK In Independent House  For Sale  In Laks...   \n",
      "15  4+ BHK In Independent House  For Sale  In Raja...   \n",
      "16  3 BHK Apartment  For Sale  In Adarsh Court Apa...   \n",
      "17  3 BHK Apartment  For Sale  In Parasmani Regenc...   \n",
      "18  2 BHK Flat  For Sale  In Kumar Ashraya Apartme...   \n",
      "19              3 BHK Flat  For Sale  In Rajaji Nagar   \n",
      "20  3 BHK Apartment  For Sale  In Mayitri Enclave ...   \n",
      "21  2 BHK Flat  For Sale  In Jayanagar Residency I...   \n",
      "22  4 BHK Flat  For Sale  In Rrbc Piccassso In Jay...   \n",
      "23  4 BHK Flat  For Sale  In Phoenix  One Bangalor...   \n",
      "24  4+ BHK In Independent House  For Sale  In Raja...   \n",
      "25  2 BHK Flat  For Sale  In Aishwaryam Gokula In ...   \n",
      "\n",
      "                                             Location        Area  \\\n",
      "1   Admiralty Manor, Indiranagar  Admiralty Manor,...  1,960 sqft   \n",
      "2   Independent House, SBI Branch Jayanagar 9th bl...  1,335 sqft   \n",
      "3   Jains Prakriti   Kanakapura Rd, 7th Block West...  1,298 sqft   \n",
      "4   Independent House,  6th Cross road,9th main ro...  1,320 sqft   \n",
      "5   16th D main, HAL 2nd stage, Indiranagar ,  Ben...  1,331 sqft   \n",
      "6   Independent House, 5th Block, near National Pu...  3,000 sqft   \n",
      "7   17, Pallava Terrace, North Main Road, 6th Bloc...  1,065 sqft   \n",
      "8   Laa Royal Manor  11th Cross Rd, 8th cross, HAL...  2,110 sqft   \n",
      "9   Tarang Parkway Apartment  2nd Main Rd, Shivana...  1,200 sqft   \n",
      "10            Independent House, 2nd stage ,9th cross  2,550 sqft   \n",
      "11  Brigade Gateway  Dr Rajkumar Road, Rajaji Naga...  1,640 sqft   \n",
      "12  Kanakapura Road, Jayanagar, Bangalore, Karnata...  1,301 sqft   \n",
      "13  Blueberry Apartment  13th E Main Rd, Channakes...  1,074 sqft   \n",
      "14        Independent House, CMH Rd , Near B P Bakery  2,250 sqft   \n",
      "15  Independent House, 6th C cross 3rd main rd nea...  2,200 sqft   \n",
      "16  Adarsh Court Apartment  Adarsh Court Apartment...  1,990 sqft   \n",
      "17  Parasmani Regency  Parasmani Regency, 8th Cros...  1,940 sqft   \n",
      "18   Kumar Ashraya Apartments 194, 9th Cross Rd 2n...    900 sqft   \n",
      "19  Independent House, 242, 27th cross, 2nd Block,...  1,275 sqft   \n",
      "20  Mayitri Enclave  Mayitri Enclave, 39th C, 5T B...  1,450 sqft   \n",
      "21  Jayanagar Residency, K V Layout, LIC Colony, J...  1,200 sqft   \n",
      "22  Municipal No.152, 18th main road, beside Sai B...  4,859 sqft   \n",
      "23  Dr Rajkumar Rd, opposite Sheraton Hotel, Rajaj...  2,901 sqft   \n",
      "24  Independent House, 6th Cross Rd, 2nd Block  ne...  2,240 sqft   \n",
      "25            1st main govindraja naagar blore 560040  1,209 sqft   \n",
      "\n",
      "                 EMI                           Price  \n",
      "1      ₹85,971/Month    ₹1.5 Crores₹7,653 per sq.ft.  \n",
      "2   ₹1.55 Lacs/Month   ₹2.7 Crores₹20,225 per sq.ft.  \n",
      "3   ₹1.15 Lacs/Month     ₹2 Crores₹15,408 per sq.ft.  \n",
      "4      ₹63,045/Month    ₹1.1 Crores₹8,333 per sq.ft.  \n",
      "5      ₹48,717/Month       ₹85 Lacs₹6,386 per sq.ft.  \n",
      "6   ₹1.86 Lacs/Month  ₹3.25 Crores₹10,833 per sq.ft.  \n",
      "7      ₹42,985/Month       ₹75 Lacs₹7,042 per sq.ft.  \n",
      "8   ₹1.58 Lacs/Month  ₹2.75 Crores₹13,033 per sq.ft.  \n",
      "9      ₹57,314/Month       ₹1 Crore₹8,333 per sq.ft.  \n",
      "10  ₹1.69 Lacs/Month  ₹2.95 Crores₹11,569 per sq.ft.  \n",
      "11   ₹1.5 Lacs/Month  ₹2.62 Crores₹16,000 per sq.ft.  \n",
      "12     ₹85,971/Month   ₹1.5 Crores₹11,530 per sq.ft.  \n",
      "13     ₹87,691/Month  ₹1.53 Crores₹14,246 per sq.ft.  \n",
      "14     ₹63,045/Month    ₹1.1 Crores₹4,889 per sq.ft.  \n",
      "15     ₹77,374/Month   ₹1.35 Crores₹6,136 per sq.ft.  \n",
      "16  ₹1.86 Lacs/Month  ₹3.25 Crores₹16,332 per sq.ft.  \n",
      "17  ₹1.43 Lacs/Month   ₹2.5 Crores₹12,887 per sq.ft.  \n",
      "18     ₹37,827/Month       ₹66 Lacs₹7,333 per sq.ft.  \n",
      "19     ₹77,374/Month  ₹1.35 Crores₹10,588 per sq.ft.  \n",
      "20     ₹44,705/Month       ₹78 Lacs₹5,379 per sq.ft.  \n",
      "21     ₹57,314/Month       ₹1 Crore₹8,333 per sq.ft.  \n",
      "22  ₹3.91 Lacs/Month  ₹6.83 Crores₹14,056 per sq.ft.  \n",
      "23  ₹2.72 Lacs/Month  ₹4.75 Crores₹16,374 per sq.ft.  \n",
      "24     ₹83,679/Month   ₹1.46 Crores₹6,518 per sq.ft.  \n",
      "25     ₹44,705/Month       ₹78 Lacs₹6,452 per sq.ft.  \n"
     ]
    }
   ],
   "source": [
    "def houses(url):\n",
    "    html = requests.get(url)\n",
    "    bs = BeautifulSoup(html.content, 'html.parser')\n",
    "    headings = [i.text for i in bs.find_all('span', class_='overflow-hidden overflow-ellipsis whitespace-nowrap max-w-80pe po:max-w-full')]\n",
    "    locations = [i.text for i in bs.find_all('div', class_='mt-0.5p overflow-hidden overflow-ellipsis whitespace-nowrap max-w-70 text-gray-light leading-4 po:mb-0 po:max-w-95')]\n",
    "    area_and_emi = [i.text for i in bs.find_all('div', class_='flex flex-col w-33pe items-center border-r border-r-solid border-card-overview-border-color tp:w-half po:w-full last:border-r-1')]\n",
    "    area = [area_and_emi[i].replace('Builtup','') for i in range(len(area_and_emi)) if i % 2 == 0]\n",
    "    emi = [area_and_emi[i].replace('Estimated EMI','') for i in range(len(area_and_emi)) if i % 2 != 0]\n",
    "    price = [i.text for i in bs.find_all('div', class_='flex flex-col w-33pe items-center bo tp:w-half po:w-full border-r-0')]\n",
    "    df = pd.DataFrame({'House title':headings, 'Location':locations, 'Area':area, 'EMI':emi, 'Price':price})\n",
    "    df.index += 1\n",
    "    print(df)\n",
    "    \n",
    "houses('https://www.nobroker.in/property/sale/bangalore/multiple?searchParam=W3sibGF0IjoxMi45NzgzNjkyLCJsb24iOjc3LjY0MDgzNTYsInBsYWNlSWQiOiJDaElKa1FOM0dLUVdyanNSTmhCUUpyaEdEN1UiLCJwbGFjZU5hbWUiOiJJbmRpcmFuYWdhciJ9LHsibGF0IjoxMi45MzA3NzM1LCJsb24iOjc3LjU4MzgzMDIsInBsYWNlSWQiOiJDaElKMmRkbFo1Z1ZyanNSaDFCT0FhZi1vcnMiLCJwbGFjZU5hbWUiOiJKYXlhbmFnYXIifSx7ImxhdCI6MTIuOTk4MTczMiwibG9uIjo3Ny41NTMwNDQ1OTk5OTk5OSwicGxhY2VJZCI6IkNoSUp4Zlc0RFBNOXJqc1JLc05URy01cF9RUSIsInBsYWNlTmFtZSI6IlJhamFqaW5hZ2FyIn1d&radius=2.0&city=bangalore&locality=Indiranagar,&locality=Jayanagar,&locality=Rajajinagar')"
   ]
  },
  {
   "cell_type": "markdown",
   "id": "7613cdcb",
   "metadata": {},
   "source": [
    "## 9) Write a python program to scrape mentioned details from dineout.co.in :\n",
    "i) Restaurant name\n",
    "ii) Cuisine\n",
    "iii) Location\n",
    "iv) Ratings\n",
    "v) Image URL"
   ]
  },
  {
   "cell_type": "code",
   "execution_count": 15,
   "id": "3b6f6742",
   "metadata": {},
   "outputs": [
    {
     "name": "stdout",
     "output_type": "stream",
     "text": [
      "                                      Restaurant Name  \\\n",
      "1   JW CafeJW Marriott Mumbai Sahar,Near Andheri E...   \n",
      "2   SaptamiHoliday Inn Mumbai International Airpor...   \n",
      "3   Lake View CafeThe Westin Mumbai Powai Lake,Pow...   \n",
      "4   72 Lounge Bar - Holiday InnHoliday Inn Mumbai ...   \n",
      "5   Nawab SahebThe Westin Mumbai Powai Lake,Powai,...   \n",
      "6   Romano'sJW Marriott Mumbai Sahar,Near Andheri ...   \n",
      "7   All Stir Fry - Waterstones HotelWaterstones Ho...   \n",
      "8   JW Baking CompanySahar Airport Road, Andheri East   \n",
      "9   JW LoungeJW Marriott Mumbai Sahar,Near Andheri...   \n",
      "10  JamavarThe Leela Hotel,Near Andheri East Stati...   \n",
      "11  On the Rocks- Waterstones HotelWaterstones Hot...   \n",
      "12  Six DegreesThe Leela Hotel,Near Andheri East S...   \n",
      "13  BaluchiThe Lalit Mumbai,Near Andheri East Stat...   \n",
      "14  Le Cirque SignatureThe Leela Hotel,Near Andher...   \n",
      "15  24/7The Lalit Mumbai,Near Andheri East Station...   \n",
      "16      CitrusNear Andheri East Station, Andheri East   \n",
      "17  BelugaThe Lalit Mumbai,Near Andheri East Stati...   \n",
      "18  The BrasserieHilton Hotels and Resorts,Sahar A...   \n",
      "19  The Great WallThe Leela Hotel,Near Andheri Eas...   \n",
      "20  TrendzThe Lalit Mumbai,Near Andheri East Stati...   \n",
      "21       BanjaraGoldfinch Hotel,M.I.D.C, Andheri East   \n",
      "\n",
      "                                              Cuisine  \\\n",
      "1                      North Indian, Asian, Fast Food   \n",
      "2                    North Indian, Continental, Asian   \n",
      "3                      North Indian, Chinese, Italian   \n",
      "4                              Finger Food, Fast Food   \n",
      "5                               North Indian, Mughlai   \n",
      "6                                             Italian   \n",
      "7                            Asian, Chinese, Japanese   \n",
      "8                                            Desserts   \n",
      "9                                Continental, Italian   \n",
      "10                     North Indian, Mughlai, Seafood   \n",
      "11                  Finger Food, Chinese, Continental   \n",
      "12                  Finger Food, Continental, Italian   \n",
      "13                      Awadhi, North Indian, Mughlai   \n",
      "14                                    French, Italian   \n",
      "15             European, Italian, North Indian, Asian   \n",
      "16  Maharashtrian, Continental, Asian, Italian, No...   \n",
      "17                              North Indian, Seafood   \n",
      "18          North Indian, Italian, Continental, Asian   \n",
      "19                                   Chinese, Seafood   \n",
      "20                                 Italian, Fast Food   \n",
      "21     North Indian, Asian, South Indian, Continental   \n",
      "\n",
      "                                             Location Ratings  \\\n",
      "1   JW Marriott Mumbai Sahar,Near Andheri East Sta...     4.6   \n",
      "2   Holiday Inn Mumbai International Airport,Near ...     4.5   \n",
      "3           The Westin Mumbai Powai Lake,Powai, Powai       5   \n",
      "4   Holiday Inn Mumbai International Airport,Near ...     4.5   \n",
      "5           The Westin Mumbai Powai Lake,Powai, Powai     4.5   \n",
      "6   JW Marriott Mumbai Sahar,Near Andheri East Sta...     4.9   \n",
      "7               Waterstones Hotel,Marol, Andheri East     4.9   \n",
      "8                    Sahar Airport Road, Andheri East     4.4   \n",
      "9   JW Marriott Mumbai Sahar,Near Andheri East Sta...     4.3   \n",
      "10  The Leela Hotel,Near Andheri East Station, And...     4.3   \n",
      "11              Waterstones Hotel,Marol, Andheri East     4.3   \n",
      "12  The Leela Hotel,Near Andheri East Station, And...     4.3   \n",
      "13  The Lalit Mumbai,Near Andheri East Station, An...     4.3   \n",
      "14  The Leela Hotel,Near Andheri East Station, And...     4.4   \n",
      "15  The Lalit Mumbai,Near Andheri East Station, An...     4.3   \n",
      "16            Near Andheri East Station, Andheri East     4.3   \n",
      "17  The Lalit Mumbai,Near Andheri East Station, An...     4.1   \n",
      "18  Hilton Hotels and Resorts,Sahar Airport Road, ...     4.2   \n",
      "19  The Leela Hotel,Near Andheri East Station, And...     4.2   \n",
      "20  The Lalit Mumbai,Near Andheri East Station, An...     3.6   \n",
      "21              Goldfinch Hotel,M.I.D.C, Andheri East     3.9   \n",
      "\n",
      "                                            Image URL  \n",
      "1   https://im1.dineout.co.in/images/uploads/resta...  \n",
      "2   https://im1.dineout.co.in/images/uploads/resta...  \n",
      "3   https://im1.dineout.co.in/images/uploads/resta...  \n",
      "4   https://im1.dineout.co.in/images/uploads/resta...  \n",
      "5   https://im1.dineout.co.in/images/uploads/resta...  \n",
      "6   https://im1.dineout.co.in/images/uploads/resta...  \n",
      "7   https://im1.dineout.co.in/images/uploads/resta...  \n",
      "8   https://im1.dineout.co.in/images/uploads/resta...  \n",
      "9   https://im1.dineout.co.in/images/uploads/resta...  \n",
      "10  https://im1.dineout.co.in/images/uploads/resta...  \n",
      "11  https://im1.dineout.co.in/images/uploads/resta...  \n",
      "12  https://im1.dineout.co.in/images/uploads/resta...  \n",
      "13  https://im1.dineout.co.in/images/uploads/resta...  \n",
      "14  https://im1.dineout.co.in/images/uploads/resta...  \n",
      "15  https://im1.dineout.co.in/images/uploads/resta...  \n",
      "16  https://im1.dineout.co.in/images/uploads/resta...  \n",
      "17  https://im1.dineout.co.in/images/uploads/resta...  \n",
      "18  https://im1.dineout.co.in/images/uploads/resta...  \n",
      "19  https://im1.dineout.co.in/images/uploads/resta...  \n",
      "20  https://im1.dineout.co.in/images/uploads/resta...  \n",
      "21  https://im1.dineout.co.in/images/uploads/resta...  \n"
     ]
    }
   ],
   "source": [
    "def restaurant(url):\n",
    "    html = requests.get(url)\n",
    "    bs = BeautifulSoup(html.content, 'html.parser')\n",
    "    names = [i.text for i in bs.find_all('div', class_='restnt-info cursor')]\n",
    "    cuisines_and_prices = [i.text for i in bs.find_all('span', class_='double-line-ellipsis')]\n",
    "    cuisines_split = []\n",
    "    for i in cuisines_and_prices:\n",
    "        k = i.split()\n",
    "        cuisines_split.append(k[6:])\n",
    "    cuisines = []\n",
    "    for i in cuisines_split:\n",
    "        listToStr = ' '.join([str(elem) for elem in i])\n",
    "        cuisines.append(listToStr)\n",
    "    location = [i.text for i in bs.find_all('div', class_='restnt-loc ellipsis')]\n",
    "    rating = [i.text for i in bs.find_all('div', class_='restnt-rating rating-5')]\n",
    "    for i in bs.find_all('div', class_='restnt-rating rating-4'):\n",
    "        rating.append(i.text)\n",
    "    images = [i['data-src'] for i in bs.find_all('img', class_='no-img')]\n",
    "    df = pd.DataFrame({'Restaurant Name':names, 'Cuisine':cuisines, 'Location':location, 'Ratings':rating, 'Image URL':images})\n",
    "    df.index += 1\n",
    "    print(df)\n",
    "    \n",
    "restaurant('https://www.dineout.co.in/mumbai-restaurants/5-star')"
   ]
  },
  {
   "cell_type": "markdown",
   "id": "f22b8581",
   "metadata": {},
   "source": [
    "## 10) Write a python program to scrape first 10 product details which include product name , price , Image URL from https://www.bewakoof.com/women-tshirts?ga_q=tshirts . "
   ]
  },
  {
   "cell_type": "code",
   "execution_count": 16,
   "id": "ed2ba52f",
   "metadata": {
    "scrolled": true
   },
   "outputs": [
    {
     "name": "stdout",
     "output_type": "stream",
     "text": [
      "                                         Product Name Price  \\\n",
      "1   Women's Black I Think My Soulmate Is Food Typo...   349   \n",
      "2   Women's Red I Think My Soulmate Is Food Typogr...   299   \n",
      "3   Women's Yellow Better Cattitude Graphic Printe...   349   \n",
      "4   Women's White Better Cattitude Graphic Printed...   299   \n",
      "5            Women's White Black Pink Printed T-shirt   349   \n",
      "6                  Women's Black Pink Printed T-shirt   349   \n",
      "7      Customizable Women Black Boyfriend Fit T Shirt   599   \n",
      "8   Women's Red Moon Child Graphic Printed Boyfrie...   299   \n",
      "9   Women's Black Moon Child Graphic Printed Boyfr...   299   \n",
      "10  Women's Blue Sleepy DB Graphic Printed Boyfrie...   399   \n",
      "\n",
      "                                            Image URL  \n",
      "1   https://images.bewakoof.com/t320/soulmate-over...  \n",
      "2   https://images.bewakoof.com/t320/soulmate-boyf...  \n",
      "3   https://images.bewakoof.com/t320/better-cattit...  \n",
      "4   https://images.bewakoof.com/t320/better-cattit...  \n",
      "5   https://images.bewakoof.com/t320/black-pink-47...  \n",
      "6   https://images.bewakoof.com/t320/black-pink-47...  \n",
      "7   https://images.bewakoof.com/t320/bewakoof-cust...  \n",
      "8   https://images.bewakoof.com/t320/moon-child-bo...  \n",
      "9   https://images.bewakoof.com/t320/moon-child-bo...  \n",
      "10  https://images.bewakoof.com/t320/sleepy-db-boy...  \n"
     ]
    }
   ],
   "source": [
    "def tshirts(url):\n",
    "    html = requests.get(url)\n",
    "    bs = BeautifulSoup(html.content, 'html.parser')\n",
    "    names_and_details = [i.text for i in bs.find_all('div', class_='productCardDetail')]\n",
    "    new_names = []\n",
    "    for i in names_and_details:\n",
    "        k = i.split()\n",
    "        new_names.append(k[:-3])\n",
    "    names = []\n",
    "    for i in new_names:\n",
    "        listToStr = ' '.join([str(elem) for elem in i])\n",
    "        names.append(listToStr.replace('₹',''))\n",
    "    price = [i.text.replace('₹ ','') for i in bs.find_all('span', class_='discountedPriceText')]\n",
    "    images = [i['src'] for i in bs.find_all('img', class_='productImgTag')]\n",
    "    df = pd.DataFrame({'Product Name':names[:10], 'Price':price[:10], 'Image URL':images[:10]})\n",
    "    df.index += 1\n",
    "    print(df)\n",
    "\n",
    "tshirts('https://www.bewakoof.com/women-t-shirts?sort=new')"
   ]
  }
 ],
 "metadata": {
  "kernelspec": {
   "display_name": "Python 3 (ipykernel)",
   "language": "python",
   "name": "python3"
  },
  "language_info": {
   "codemirror_mode": {
    "name": "ipython",
    "version": 3
   },
   "file_extension": ".py",
   "mimetype": "text/x-python",
   "name": "python",
   "nbconvert_exporter": "python",
   "pygments_lexer": "ipython3",
   "version": "3.9.7"
  }
 },
 "nbformat": 4,
 "nbformat_minor": 5
}
